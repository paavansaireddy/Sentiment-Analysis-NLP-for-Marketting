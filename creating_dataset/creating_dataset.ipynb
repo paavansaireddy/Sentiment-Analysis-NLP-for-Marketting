{
 "cells": [
  {
   "cell_type": "markdown",
   "metadata": {},
   "source": [
    "## Objective\n",
    "* __Create your own dataset that contains a random sample of reviews__\n",
    "\n",
    "## Workflow\n",
    "\n",
    "1. Read the video game review data. Take a look at the text of the reviews and the ratings, which you will work with in this milestone.Note that your data is not pure JSON, but new line delimited JSON. To be able to read it, install and import  <span style=\"color:red\">ndjson</span>.\n",
    "2. Create a plot of the ratings of the product. Study the distribution of the five categories.\n",
    "3. Take a random sample of the reviews by selecting 1500 reviews with rating 1, 500-500-500 reviews with ratings 2, 3, 4, and 1500 reviews with rating 5. This way you get a smaller __balanced__ corpus, on which you will during Milestones 2-4. \n",
    "4. Take a random sample of the reviews by selecting 100,000 reviews. This way you get a bigger representative corpus, on which you will work in Milestones 4 and 5.\n",
    "    * If you want to get identical results that are provided as a sample solution, use 42 as a random state.\n",
    "5. Export your corpora to two separate .csv files. Both of your tables should contain a column for the reviews and a column for the ratings. From now on we call the review text of the JSON key “reviews” and the overall key “ratings.” Name your corpora small_corpus and big_corpus.\n"
   ]
  },
  {
   "cell_type": "code",
   "execution_count": 1,
   "metadata": {},
   "outputs": [],
   "source": [
    "import ndjson\n",
    "import pandas as pd\n",
    "import numpy as np\n",
    "import seaborn as sns"
   ]
  },
  {
   "cell_type": "code",
   "execution_count": 2,
   "metadata": {},
   "outputs": [],
   "source": [
    "# reading reviews from json file\n",
    "with open('../data/Video_Games_5.json') as f:\n",
    "    data = ndjson.load(f)"
   ]
  },
  {
   "cell_type": "code",
   "execution_count": 3,
   "metadata": {},
   "outputs": [],
   "source": [
    "reviews_df = pd.DataFrame(data)"
   ]
  },
  {
   "cell_type": "code",
   "execution_count": 4,
   "metadata": {},
   "outputs": [
    {
     "data": {
      "text/html": [
       "<div>\n",
       "<style scoped>\n",
       "    .dataframe tbody tr th:only-of-type {\n",
       "        vertical-align: middle;\n",
       "    }\n",
       "\n",
       "    .dataframe tbody tr th {\n",
       "        vertical-align: top;\n",
       "    }\n",
       "\n",
       "    .dataframe thead th {\n",
       "        text-align: right;\n",
       "    }\n",
       "</style>\n",
       "<table border=\"1\" class=\"dataframe\">\n",
       "  <thead>\n",
       "    <tr style=\"text-align: right;\">\n",
       "      <th></th>\n",
       "      <th>overall</th>\n",
       "      <th>verified</th>\n",
       "      <th>reviewTime</th>\n",
       "      <th>reviewerID</th>\n",
       "      <th>asin</th>\n",
       "      <th>reviewerName</th>\n",
       "      <th>reviewText</th>\n",
       "      <th>summary</th>\n",
       "      <th>unixReviewTime</th>\n",
       "      <th>vote</th>\n",
       "      <th>style</th>\n",
       "      <th>image</th>\n",
       "    </tr>\n",
       "  </thead>\n",
       "  <tbody>\n",
       "    <tr>\n",
       "      <th>0</th>\n",
       "      <td>5.0</td>\n",
       "      <td>True</td>\n",
       "      <td>10 17, 2015</td>\n",
       "      <td>A1HP7NVNPFMA4N</td>\n",
       "      <td>0700026657</td>\n",
       "      <td>Ambrosia075</td>\n",
       "      <td>This game is a bit hard to get the hang of, bu...</td>\n",
       "      <td>but when you do it's great.</td>\n",
       "      <td>1445040000</td>\n",
       "      <td>NaN</td>\n",
       "      <td>NaN</td>\n",
       "      <td>NaN</td>\n",
       "    </tr>\n",
       "    <tr>\n",
       "      <th>1</th>\n",
       "      <td>4.0</td>\n",
       "      <td>False</td>\n",
       "      <td>07 27, 2015</td>\n",
       "      <td>A1JGAP0185YJI6</td>\n",
       "      <td>0700026657</td>\n",
       "      <td>travis</td>\n",
       "      <td>I played it a while but it was alright. The st...</td>\n",
       "      <td>But in spite of that it was fun, I liked it</td>\n",
       "      <td>1437955200</td>\n",
       "      <td>NaN</td>\n",
       "      <td>NaN</td>\n",
       "      <td>NaN</td>\n",
       "    </tr>\n",
       "    <tr>\n",
       "      <th>2</th>\n",
       "      <td>3.0</td>\n",
       "      <td>True</td>\n",
       "      <td>02 23, 2015</td>\n",
       "      <td>A1YJWEXHQBWK2B</td>\n",
       "      <td>0700026657</td>\n",
       "      <td>Vincent G. Mezera</td>\n",
       "      <td>ok game.</td>\n",
       "      <td>Three Stars</td>\n",
       "      <td>1424649600</td>\n",
       "      <td>NaN</td>\n",
       "      <td>NaN</td>\n",
       "      <td>NaN</td>\n",
       "    </tr>\n",
       "    <tr>\n",
       "      <th>3</th>\n",
       "      <td>2.0</td>\n",
       "      <td>True</td>\n",
       "      <td>02 20, 2015</td>\n",
       "      <td>A2204E1TH211HT</td>\n",
       "      <td>0700026657</td>\n",
       "      <td>Grandma KR</td>\n",
       "      <td>found the game a bit too complicated, not what...</td>\n",
       "      <td>Two Stars</td>\n",
       "      <td>1424390400</td>\n",
       "      <td>NaN</td>\n",
       "      <td>NaN</td>\n",
       "      <td>NaN</td>\n",
       "    </tr>\n",
       "    <tr>\n",
       "      <th>4</th>\n",
       "      <td>5.0</td>\n",
       "      <td>True</td>\n",
       "      <td>12 25, 2014</td>\n",
       "      <td>A2RF5B5H74JLPE</td>\n",
       "      <td>0700026657</td>\n",
       "      <td>jon</td>\n",
       "      <td>great game, I love it and have played it since...</td>\n",
       "      <td>love this game</td>\n",
       "      <td>1419465600</td>\n",
       "      <td>NaN</td>\n",
       "      <td>NaN</td>\n",
       "      <td>NaN</td>\n",
       "    </tr>\n",
       "  </tbody>\n",
       "</table>\n",
       "</div>"
      ],
      "text/plain": [
       "   overall  verified   reviewTime      reviewerID        asin  \\\n",
       "0      5.0      True  10 17, 2015  A1HP7NVNPFMA4N  0700026657   \n",
       "1      4.0     False  07 27, 2015  A1JGAP0185YJI6  0700026657   \n",
       "2      3.0      True  02 23, 2015  A1YJWEXHQBWK2B  0700026657   \n",
       "3      2.0      True  02 20, 2015  A2204E1TH211HT  0700026657   \n",
       "4      5.0      True  12 25, 2014  A2RF5B5H74JLPE  0700026657   \n",
       "\n",
       "        reviewerName                                         reviewText  \\\n",
       "0        Ambrosia075  This game is a bit hard to get the hang of, bu...   \n",
       "1             travis  I played it a while but it was alright. The st...   \n",
       "2  Vincent G. Mezera                                           ok game.   \n",
       "3         Grandma KR  found the game a bit too complicated, not what...   \n",
       "4                jon  great game, I love it and have played it since...   \n",
       "\n",
       "                                       summary  unixReviewTime vote style  \\\n",
       "0                  but when you do it's great.      1445040000  NaN   NaN   \n",
       "1  But in spite of that it was fun, I liked it      1437955200  NaN   NaN   \n",
       "2                                  Three Stars      1424649600  NaN   NaN   \n",
       "3                                    Two Stars      1424390400  NaN   NaN   \n",
       "4                               love this game      1419465600  NaN   NaN   \n",
       "\n",
       "  image  \n",
       "0   NaN  \n",
       "1   NaN  \n",
       "2   NaN  \n",
       "3   NaN  \n",
       "4   NaN  "
      ]
     },
     "execution_count": 4,
     "metadata": {},
     "output_type": "execute_result"
    }
   ],
   "source": [
    "reviews_df.head()"
   ]
  },
  {
   "cell_type": "markdown",
   "metadata": {},
   "source": [
    "### Data Dictionry\n",
    "   * __reviewerID__ - ID of the reviewer, e.g. A2SUAM1J3GNN3B\n",
    "   * __asin__ - ID of the product, e.g. 0000013714\n",
    "   * **reviewerName** - name of the reviewer\n",
    "   * **vote** - helpful votes of the review\n",
    "   * **style** - a disctionary of the product metadata, e.g., \"Format\" is \"Hardcover\"\n",
    "   * **reviewText** - text of the review\n",
    "   * **overall** - rating of the product\n",
    "   * **summary** - summary of the review\n",
    "   * **unixReviewTime** - time of the review (unix time)\n",
    "   * **reviewTime** - time of the review (raw)\n",
    "   * **image** - images that users post after they have received the product\n"
   ]
  },
  {
   "cell_type": "code",
   "execution_count": 5,
   "metadata": {},
   "outputs": [
    {
     "data": {
      "text/plain": [
       "(497577, 12)"
      ]
     },
     "execution_count": 5,
     "metadata": {},
     "output_type": "execute_result"
    }
   ],
   "source": [
    "reviews_df.shape"
   ]
  },
  {
   "cell_type": "code",
   "execution_count": 6,
   "metadata": {},
   "outputs": [
    {
     "name": "stdout",
     "output_type": "stream",
     "text": [
      "<class 'pandas.core.frame.DataFrame'>\n",
      "RangeIndex: 497577 entries, 0 to 497576\n",
      "Data columns (total 12 columns):\n",
      " #   Column          Non-Null Count   Dtype  \n",
      "---  ------          --------------   -----  \n",
      " 0   overall         497577 non-null  float64\n",
      " 1   verified        497577 non-null  bool   \n",
      " 2   reviewTime      497577 non-null  object \n",
      " 3   reviewerID      497577 non-null  object \n",
      " 4   asin            497577 non-null  object \n",
      " 5   reviewerName    497501 non-null  object \n",
      " 6   reviewText      497419 non-null  object \n",
      " 7   summary         497468 non-null  object \n",
      " 8   unixReviewTime  497577 non-null  int64  \n",
      " 9   vote            107793 non-null  object \n",
      " 10  style           289237 non-null  object \n",
      " 11  image           3634 non-null    object \n",
      "dtypes: bool(1), float64(1), int64(1), object(9)\n",
      "memory usage: 42.2+ MB\n"
     ]
    }
   ],
   "source": [
    "reviews_df.info()"
   ]
  },
  {
   "cell_type": "code",
   "execution_count": 7,
   "metadata": {},
   "outputs": [
    {
     "data": {
      "text/plain": [
       "<Axes: xlabel='overall', ylabel='count'>"
      ]
     },
     "execution_count": 7,
     "metadata": {},
     "output_type": "execute_result"
    },
    {
     "data": {
      "image/png": "[encoded data removed]",
      "text/plain": [
       "<Figure size 640x480 with 1 Axes>"
      ]
     },
     "metadata": {},
     "output_type": "display_data"
    }
   ],
   "source": [
    "sns.countplot(data = reviews_df, x='overall')"
   ]
  },
  {
   "cell_type": "code",
   "execution_count": 8,
   "metadata": {},
   "outputs": [
    {
     "data": {
      "text/plain": [
       "17408"
      ]
     },
     "execution_count": 8,
     "metadata": {},
     "output_type": "execute_result"
    }
   ],
   "source": [
    "len(reviews_df['asin'].value_counts(dropna=False))"
   ]
  },
  {
   "cell_type": "markdown",
   "metadata": {},
   "source": [
    "### Undersampling of Reviews\n",
    "Taking a random sample of the reviews by selecting 1500 reviews with rating 1, 500-500-500 reviews with ratings 2, 3, 4, and 1500 reviews with rating 5. This way you get a smaller balanced corpus, on which you will during Milestones 2-4.\n"
   ]
  },
  {
   "cell_type": "code",
   "execution_count": 10,
   "metadata": {},
   "outputs": [],
   "source": [
    "one_1500 = reviews_df[reviews_df['overall']==1.0].sample(n=1500)\n",
    "two_500 = reviews_df[reviews_df['overall']==2.0].sample(n=500)\n",
    "three_500 = reviews_df[reviews_df['overall']==3.0].sample(n=500)\n",
    "four_500 = reviews_df[reviews_df['overall']==4.0].sample(n=500)\n",
    "five_1500 = reviews_df[reviews_df['overall']==5.0].sample(n=1500)"
   ]
  },
  {
   "cell_type": "code",
   "execution_count": 11,
   "metadata": {},
   "outputs": [
    {
     "data": {
      "text/html": [
       "<div>\n",
       "<style scoped>\n",
       "    .dataframe tbody tr th:only-of-type {\n",
       "        vertical-align: middle;\n",
       "    }\n",
       "\n",
       "    .dataframe tbody tr th {\n",
       "        vertical-align: top;\n",
       "    }\n",
       "\n",
       "    .dataframe thead th {\n",
       "        text-align: right;\n",
       "    }\n",
       "</style>\n",
       "<table border=\"1\" class=\"dataframe\">\n",
       "  <thead>\n",
       "    <tr style=\"text-align: right;\">\n",
       "      <th></th>\n",
       "      <th>overall</th>\n",
       "      <th>verified</th>\n",
       "      <th>reviewTime</th>\n",
       "      <th>reviewerID</th>\n",
       "      <th>asin</th>\n",
       "      <th>reviewerName</th>\n",
       "      <th>reviewText</th>\n",
       "      <th>summary</th>\n",
       "      <th>unixReviewTime</th>\n",
       "      <th>vote</th>\n",
       "      <th>style</th>\n",
       "      <th>image</th>\n",
       "    </tr>\n",
       "  </thead>\n",
       "  <tbody>\n",
       "    <tr>\n",
       "      <th>49809</th>\n",
       "      <td>1.0</td>\n",
       "      <td>False</td>\n",
       "      <td>01 9, 2007</td>\n",
       "      <td>A1V759M5PMHL3Q</td>\n",
       "      <td>B0000AFWWH</td>\n",
       "      <td>JB</td>\n",
       "      <td>Before purchasing this product, do a quick web...</td>\n",
       "      <td>Disappointed</td>\n",
       "      <td>1168300800</td>\n",
       "      <td>14</td>\n",
       "      <td>{'Edition:': ' 10th Anniversary', 'Platform:':...</td>\n",
       "      <td>NaN</td>\n",
       "    </tr>\n",
       "    <tr>\n",
       "      <th>173599</th>\n",
       "      <td>1.0</td>\n",
       "      <td>False</td>\n",
       "      <td>09 20, 2015</td>\n",
       "      <td>A1ITVHRZE96PW5</td>\n",
       "      <td>B001DT02JG</td>\n",
       "      <td>Y Chromosome 99</td>\n",
       "      <td>Console 1 needed to be replaced because the  d...</td>\n",
       "      <td>Has not been good to me. This is worth your ti...</td>\n",
       "      <td>1442707200</td>\n",
       "      <td>NaN</td>\n",
       "      <td>NaN</td>\n",
       "      <td>NaN</td>\n",
       "    </tr>\n",
       "    <tr>\n",
       "      <th>271198</th>\n",
       "      <td>1.0</td>\n",
       "      <td>True</td>\n",
       "      <td>03 23, 2013</td>\n",
       "      <td>AAFITF9VJD8DL</td>\n",
       "      <td>B007FTE2VW</td>\n",
       "      <td>Khatsalano</td>\n",
       "      <td>The game doesn't work because so many basic me...</td>\n",
       "      <td>EA didn't test the product</td>\n",
       "      <td>1363996800</td>\n",
       "      <td>11</td>\n",
       "      <td>{'Format:': ' Video Game'}</td>\n",
       "      <td>NaN</td>\n",
       "    </tr>\n",
       "    <tr>\n",
       "      <th>396544</th>\n",
       "      <td>1.0</td>\n",
       "      <td>False</td>\n",
       "      <td>12 10, 2015</td>\n",
       "      <td>AYAGJRPQG9ILX</td>\n",
       "      <td>B00W8FYF4W</td>\n",
       "      <td>E. Settle</td>\n",
       "      <td>If you like games with Amazing graphics and pr...</td>\n",
       "      <td>EA managed to screw up another brand</td>\n",
       "      <td>1449705600</td>\n",
       "      <td>8</td>\n",
       "      <td>{'Edition:': ' Standard', 'Platform:': ' PC'}</td>\n",
       "      <td>NaN</td>\n",
       "    </tr>\n",
       "    <tr>\n",
       "      <th>212823</th>\n",
       "      <td>1.0</td>\n",
       "      <td>False</td>\n",
       "      <td>02 13, 2016</td>\n",
       "      <td>A290SKKXNSQVDC</td>\n",
       "      <td>B003O6E800</td>\n",
       "      <td>Dillon Stenberg</td>\n",
       "      <td>Enjoy pocketing the extra cash while you can g...</td>\n",
       "      <td>Ridiculous Price Gouging</td>\n",
       "      <td>1455321600</td>\n",
       "      <td>2</td>\n",
       "      <td>{'Format:': ' Video Game'}</td>\n",
       "      <td>NaN</td>\n",
       "    </tr>\n",
       "  </tbody>\n",
       "</table>\n",
       "</div>"
      ],
      "text/plain": [
       "        overall  verified   reviewTime      reviewerID        asin  \\\n",
       "49809       1.0     False   01 9, 2007  A1V759M5PMHL3Q  B0000AFWWH   \n",
       "173599      1.0     False  09 20, 2015  A1ITVHRZE96PW5  B001DT02JG   \n",
       "271198      1.0      True  03 23, 2013   AAFITF9VJD8DL  B007FTE2VW   \n",
       "396544      1.0     False  12 10, 2015   AYAGJRPQG9ILX  B00W8FYF4W   \n",
       "212823      1.0     False  02 13, 2016  A290SKKXNSQVDC  B003O6E800   \n",
       "\n",
       "           reviewerName                                         reviewText  \\\n",
       "49809                JB  Before purchasing this product, do a quick web...   \n",
       "173599  Y Chromosome 99  Console 1 needed to be replaced because the  d...   \n",
       "271198       Khatsalano  The game doesn't work because so many basic me...   \n",
       "396544        E. Settle  If you like games with Amazing graphics and pr...   \n",
       "212823  Dillon Stenberg  Enjoy pocketing the extra cash while you can g...   \n",
       "\n",
       "                                                  summary  unixReviewTime  \\\n",
       "49809                                        Disappointed      1168300800   \n",
       "173599  Has not been good to me. This is worth your ti...      1442707200   \n",
       "271198                         EA didn't test the product      1363996800   \n",
       "396544               EA managed to screw up another brand      1449705600   \n",
       "212823                           Ridiculous Price Gouging      1455321600   \n",
       "\n",
       "       vote                                              style image  \n",
       "49809    14  {'Edition:': ' 10th Anniversary', 'Platform:':...   NaN  \n",
       "173599  NaN                                                NaN   NaN  \n",
       "271198   11                         {'Format:': ' Video Game'}   NaN  \n",
       "396544    8      {'Edition:': ' Standard', 'Platform:': ' PC'}   NaN  \n",
       "212823    2                         {'Format:': ' Video Game'}   NaN  "
      ]
     },
     "execution_count": 11,
     "metadata": {},
     "output_type": "execute_result"
    }
   ],
   "source": [
    "one_1500.head()"
   ]
  },
  {
   "cell_type": "code",
   "execution_count": 12,
   "metadata": {},
   "outputs": [],
   "source": [
    "undersampled_reviews = pd.concat([one_1500, two_500, three_500, four_500, five_1500], axis=0)"
   ]
  },
  {
   "cell_type": "code",
   "execution_count": 13,
   "metadata": {},
   "outputs": [
    {
     "data": {
      "text/html": [
       "<div>\n",
       "<style scoped>\n",
       "    .dataframe tbody tr th:only-of-type {\n",
       "        vertical-align: middle;\n",
       "    }\n",
       "\n",
       "    .dataframe tbody tr th {\n",
       "        vertical-align: top;\n",
       "    }\n",
       "\n",
       "    .dataframe thead th {\n",
       "        text-align: right;\n",
       "    }\n",
       "</style>\n",
       "<table border=\"1\" class=\"dataframe\">\n",
       "  <thead>\n",
       "    <tr style=\"text-align: right;\">\n",
       "      <th></th>\n",
       "      <th>overall</th>\n",
       "      <th>verified</th>\n",
       "      <th>reviewTime</th>\n",
       "      <th>reviewerID</th>\n",
       "      <th>asin</th>\n",
       "      <th>reviewerName</th>\n",
       "      <th>reviewText</th>\n",
       "      <th>summary</th>\n",
       "      <th>unixReviewTime</th>\n",
       "      <th>vote</th>\n",
       "      <th>style</th>\n",
       "      <th>image</th>\n",
       "    </tr>\n",
       "  </thead>\n",
       "  <tbody>\n",
       "    <tr>\n",
       "      <th>49809</th>\n",
       "      <td>1.0</td>\n",
       "      <td>False</td>\n",
       "      <td>01 9, 2007</td>\n",
       "      <td>A1V759M5PMHL3Q</td>\n",
       "      <td>B0000AFWWH</td>\n",
       "      <td>JB</td>\n",
       "      <td>Before purchasing this product, do a quick web...</td>\n",
       "      <td>Disappointed</td>\n",
       "      <td>1168300800</td>\n",
       "      <td>14</td>\n",
       "      <td>{'Edition:': ' 10th Anniversary', 'Platform:':...</td>\n",
       "      <td>NaN</td>\n",
       "    </tr>\n",
       "    <tr>\n",
       "      <th>173599</th>\n",
       "      <td>1.0</td>\n",
       "      <td>False</td>\n",
       "      <td>09 20, 2015</td>\n",
       "      <td>A1ITVHRZE96PW5</td>\n",
       "      <td>B001DT02JG</td>\n",
       "      <td>Y Chromosome 99</td>\n",
       "      <td>Console 1 needed to be replaced because the  d...</td>\n",
       "      <td>Has not been good to me. This is worth your ti...</td>\n",
       "      <td>1442707200</td>\n",
       "      <td>NaN</td>\n",
       "      <td>NaN</td>\n",
       "      <td>NaN</td>\n",
       "    </tr>\n",
       "    <tr>\n",
       "      <th>271198</th>\n",
       "      <td>1.0</td>\n",
       "      <td>True</td>\n",
       "      <td>03 23, 2013</td>\n",
       "      <td>AAFITF9VJD8DL</td>\n",
       "      <td>B007FTE2VW</td>\n",
       "      <td>Khatsalano</td>\n",
       "      <td>The game doesn't work because so many basic me...</td>\n",
       "      <td>EA didn't test the product</td>\n",
       "      <td>1363996800</td>\n",
       "      <td>11</td>\n",
       "      <td>{'Format:': ' Video Game'}</td>\n",
       "      <td>NaN</td>\n",
       "    </tr>\n",
       "    <tr>\n",
       "      <th>396544</th>\n",
       "      <td>1.0</td>\n",
       "      <td>False</td>\n",
       "      <td>12 10, 2015</td>\n",
       "      <td>AYAGJRPQG9ILX</td>\n",
       "      <td>B00W8FYF4W</td>\n",
       "      <td>E. Settle</td>\n",
       "      <td>If you like games with Amazing graphics and pr...</td>\n",
       "      <td>EA managed to screw up another brand</td>\n",
       "      <td>1449705600</td>\n",
       "      <td>8</td>\n",
       "      <td>{'Edition:': ' Standard', 'Platform:': ' PC'}</td>\n",
       "      <td>NaN</td>\n",
       "    </tr>\n",
       "    <tr>\n",
       "      <th>212823</th>\n",
       "      <td>1.0</td>\n",
       "      <td>False</td>\n",
       "      <td>02 13, 2016</td>\n",
       "      <td>A290SKKXNSQVDC</td>\n",
       "      <td>B003O6E800</td>\n",
       "      <td>Dillon Stenberg</td>\n",
       "      <td>Enjoy pocketing the extra cash while you can g...</td>\n",
       "      <td>Ridiculous Price Gouging</td>\n",
       "      <td>1455321600</td>\n",
       "      <td>2</td>\n",
       "      <td>{'Format:': ' Video Game'}</td>\n",
       "      <td>NaN</td>\n",
       "    </tr>\n",
       "  </tbody>\n",
       "</table>\n",
       "</div>"
      ],
      "text/plain": [
       "        overall  verified   reviewTime      reviewerID        asin  \\\n",
       "49809       1.0     False   01 9, 2007  A1V759M5PMHL3Q  B0000AFWWH   \n",
       "173599      1.0     False  09 20, 2015  A1ITVHRZE96PW5  B001DT02JG   \n",
       "271198      1.0      True  03 23, 2013   AAFITF9VJD8DL  B007FTE2VW   \n",
       "396544      1.0     False  12 10, 2015   AYAGJRPQG9ILX  B00W8FYF4W   \n",
       "212823      1.0     False  02 13, 2016  A290SKKXNSQVDC  B003O6E800   \n",
       "\n",
       "           reviewerName                                         reviewText  \\\n",
       "49809                JB  Before purchasing this product, do a quick web...   \n",
       "173599  Y Chromosome 99  Console 1 needed to be replaced because the  d...   \n",
       "271198       Khatsalano  The game doesn't work because so many basic me...   \n",
       "396544        E. Settle  If you like games with Amazing graphics and pr...   \n",
       "212823  Dillon Stenberg  Enjoy pocketing the extra cash while you can g...   \n",
       "\n",
       "                                                  summary  unixReviewTime  \\\n",
       "49809                                        Disappointed      1168300800   \n",
       "173599  Has not been good to me. This is worth your ti...      1442707200   \n",
       "271198                         EA didn't test the product      1363996800   \n",
       "396544               EA managed to screw up another brand      1449705600   \n",
       "212823                           Ridiculous Price Gouging      1455321600   \n",
       "\n",
       "       vote                                              style image  \n",
       "49809    14  {'Edition:': ' 10th Anniversary', 'Platform:':...   NaN  \n",
       "173599  NaN                                                NaN   NaN  \n",
       "271198   11                         {'Format:': ' Video Game'}   NaN  \n",
       "396544    8      {'Edition:': ' Standard', 'Platform:': ' PC'}   NaN  \n",
       "212823    2                         {'Format:': ' Video Game'}   NaN  "
      ]
     },
     "execution_count": 13,
     "metadata": {},
     "output_type": "execute_result"
    }
   ],
   "source": [
    "undersampled_reviews.head()"
   ]
  },
  {
   "cell_type": "code",
   "execution_count": 30,
   "metadata": {},
   "outputs": [
    {
     "data": {
      "text/plain": [
       "overall\n",
       "1.0    1500\n",
       "5.0    1500\n",
       "2.0     500\n",
       "3.0     500\n",
       "4.0     500\n",
       "Name: count, dtype: int64"
      ]
     },
     "execution_count": 30,
     "metadata": {},
     "output_type": "execute_result"
    }
   ],
   "source": [
    "undersampled_reviews['overall'].value_counts(dropna=False)"
   ]
  },
  {
   "cell_type": "code",
   "execution_count": 14,
   "metadata": {},
   "outputs": [
    {
     "data": {
      "text/plain": [
       "<Axes: xlabel='overall', ylabel='count'>"
      ]
     },
     "execution_count": 14,
     "metadata": {},
     "output_type": "execute_result"
    },
    {
     "data": {
      "image/png": "[encoded data removed]",
      "text/plain": [
       "<Figure size 640x480 with 1 Axes>"
      ]
     },
     "metadata": {},
     "output_type": "display_data"
    }
   ],
   "source": [
    "sns.countplot(data=undersampled_reviews, x='overall')"
   ]
  },
  {
   "cell_type": "markdown",
   "metadata": {},
   "source": [
    "### Random Sampling of 100K Reviews"
   ]
  },
  {
   "cell_type": "code",
   "execution_count": 15,
   "metadata": {},
   "outputs": [],
   "source": [
    "sample_100K_revs = reviews_df.sample(n=100000, random_state=42)"
   ]
  },
  {
   "cell_type": "markdown",
   "metadata": {},
   "source": [
    "### Writing Corpora"
   ]
  },
  {
   "cell_type": "code",
   "execution_count": 16,
   "metadata": {},
   "outputs": [],
   "source": [
    "undersampled_reviews.to_csv(\"../data/small_corpus.csv\", index=False)"
   ]
  },
  {
   "cell_type": "code",
   "execution_count": 17,
   "metadata": {},
   "outputs": [],
   "source": [
    "sample_100K_revs.to_csv(\"../data/big_corpus.csv\", index=False)"
   ]
  }
 ],
 "metadata": {
  "kernelspec": {
   "display_name": "base",
   "language": "python",
   "name": "python3"
  },
  "language_info": {
   "codemirror_mode": {
    "name": "ipython",
    "version": 3
   },
   "file_extension": ".py",
   "mimetype": "text/x-python",
   "name": "python",
   "nbconvert_exporter": "python",
   "pygments_lexer": "ipython3",
   "version": "3.11.7"
  }
 },
 "nbformat": 4,
 "nbformat_minor": 4
}
